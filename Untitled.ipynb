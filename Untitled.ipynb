{
 "cells": [
  {
   "cell_type": "code",
   "execution_count": 5,
   "id": "18ce1550-1ac9-487d-9832-07de25af8364",
   "metadata": {},
   "outputs": [],
   "source": [
    "import pandas as pd\n",
    "\n"
   ]
  },
  {
   "cell_type": "code",
   "execution_count": 7,
   "id": "126f08e6-02ea-435e-a72c-9fe5ddf8b96c",
   "metadata": {},
   "outputs": [
    {
     "name": "stdout",
     "output_type": "stream",
     "text": [
      "Requirement already satisfied: pandas in /opt/conda/lib/python3.10/site-packages (1.5.2)\n",
      "Requirement already satisfied: python-dateutil>=2.8.1 in /opt/conda/lib/python3.10/site-packages (from pandas) (2.8.2)\n",
      "Requirement already satisfied: pytz>=2020.1 in /opt/conda/lib/python3.10/site-packages (from pandas) (2022.6)\n",
      "Requirement already satisfied: numpy>=1.21.0 in /opt/conda/lib/python3.10/site-packages (from pandas) (1.23.5)\n",
      "Requirement already satisfied: six>=1.5 in /opt/conda/lib/python3.10/site-packages (from python-dateutil>=2.8.1->pandas) (1.16.0)\n",
      "Note: you may need to restart the kernel to use updated packages.\n"
     ]
    }
   ],
   "source": [
    "pip install pandas"
   ]
  },
  {
   "cell_type": "code",
   "execution_count": 2,
   "id": "0b8ab17c-90bc-43a2-b228-cf5d08c89447",
   "metadata": {},
   "outputs": [],
   "source": [
    "import numpy as np"
   ]
  },
  {
   "cell_type": "code",
   "execution_count": 3,
   "id": "85f060d6-e2e5-4597-b836-d6dfdfed82a0",
   "metadata": {},
   "outputs": [
    {
     "name": "stdout",
     "output_type": "stream",
     "text": [
      "Requirement already satisfied: numpy in /opt/conda/lib/python3.10/site-packages (1.23.5)\n",
      "Note: you may need to restart the kernel to use updated packages.\n"
     ]
    }
   ],
   "source": [
    "pip install numpy"
   ]
  },
  {
   "cell_type": "code",
   "execution_count": 11,
   "id": "48168f17-c25d-430a-b64b-3d6f5571c005",
   "metadata": {},
   "outputs": [
    {
     "name": "stdout",
     "output_type": "stream",
     "text": [
      "0     4\n",
      "1     8\n",
      "2    16\n",
      "3    15\n",
      "4    23\n",
      "5    42\n",
      "dtype: int64\n"
     ]
    }
   ],
   "source": [
    "#QUESTION 1\n",
    "data=np.array([4,8,16,15,23,42])\n",
    "ser=pd.Series(data)\n",
    "print(ser)"
   ]
  },
  {
   "cell_type": "code",
   "execution_count": 12,
   "id": "0796dd0e-ed33-40ba-8d1c-b79186309852",
   "metadata": {},
   "outputs": [
    {
     "name": "stdout",
     "output_type": "stream",
     "text": [
      "0     1\n",
      "1     2\n",
      "2     3\n",
      "3     4\n",
      "4     5\n",
      "5     6\n",
      "6     7\n",
      "7     8\n",
      "8     9\n",
      "9    10\n",
      "dtype: int64\n"
     ]
    }
   ],
   "source": [
    "#Question 2\n",
    "li=[1,2,3,4,5,6,7,8,9,10]\n",
    "ser=pd.Series(li)\n",
    "print(ser)"
   ]
  },
  {
   "cell_type": "code",
   "execution_count": 19,
   "id": "0bb3b038-1099-491f-8bdf-ddafc983fb61",
   "metadata": {},
   "outputs": [
    {
     "name": "stdout",
     "output_type": "stream",
     "text": [
      "     name  age  gender\n",
      "0   alice   22  female\n",
      "1     bob   30    male\n",
      "2  claire   27  female\n"
     ]
    }
   ],
   "source": [
    "#Question3\n",
    "data=[[\"alice\",22,\"female\"],[\"bob\",30,\"male\"],[\"claire\",27,\"female\"]]\n",
    "df=pd.DataFrame(data,columns=[\"name\",\"age\",\"gender\"])\n",
    "print(df)"
   ]
  },
  {
   "cell_type": "code",
   "execution_count": null,
   "id": "cf6e77c6-9e5e-4eb3-8897-aa200fdb19e5",
   "metadata": {},
   "outputs": [],
   "source": [
    "#Question4\n",
    "A Pandas DataFrame is a 2 dimensional data structure, like a 2 dimensional array, or a table with rows and columns.a Pandas Series is a 1D array of data, but a single-column DataFrame is a 2D table with one column"
   ]
  },
  {
   "cell_type": "code",
   "execution_count": null,
   "id": "d6ab6ea8-fba0-4437-aa84-25a300569c54",
   "metadata": {},
   "outputs": [],
   "source": [
    "#Question 5\n",
    "The following function used to manipulate data in dataframe are:\n",
    "describe()\n",
    "shape\n",
    "sort_values() \n",
    "head()\n",
    "tail()"
   ]
  },
  {
   "cell_type": "code",
   "execution_count": null,
   "id": "f84502b5-142d-4a64-8e6e-f8c12be90864",
   "metadata": {},
   "outputs": [],
   "source": [
    "#Question 6\n",
    "DataFrames are both value-mutable and size-mutable (Series, by contrast, is only value-mutable, not size-mutable. The length of a Series cannot be changed although the values can be changed)."
   ]
  },
  {
   "cell_type": "code",
   "execution_count": null,
   "id": "c19b7e6d-f958-4062-8dea-11641e02a5d8",
   "metadata": {},
   "outputs": [],
   "source": [
    "author = ['Jitender', 'Purnima',\n",
    "          'Arpit', 'Jyoti']\n",
    "article = [210, 211, 114, 178]\n",
    " \n",
    "# Creating two Series by passing lists\n",
    "auth_series = pd.Series(author)\n",
    "article_series = pd.Series(article)\n",
    " \n",
    "# Creating a dictionary by passing Series objects as values\n",
    "frame = {'Author': auth_series,\n",
    "         'Article': article_series}\n",
    " \n",
    "# Creating DataFrame by passing Dictionary\n",
    "result = pd.DataFrame(frame)\n",
    " \n",
    "# Printing elements of Dataframe\n",
    "print(result)"
   ]
  }
 ],
 "metadata": {
  "kernelspec": {
   "display_name": "Python 3 (ipykernel)",
   "language": "python",
   "name": "python3"
  },
  "language_info": {
   "codemirror_mode": {
    "name": "ipython",
    "version": 3
   },
   "file_extension": ".py",
   "mimetype": "text/x-python",
   "name": "python",
   "nbconvert_exporter": "python",
   "pygments_lexer": "ipython3",
   "version": "3.10.8"
  }
 },
 "nbformat": 4,
 "nbformat_minor": 5
}
